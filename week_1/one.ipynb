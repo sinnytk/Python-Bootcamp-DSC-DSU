def diagonal(): 
    n = input()
    x = " "
    for char in n:
        print(x, char) 
        x += " " 
    return

diagonal()